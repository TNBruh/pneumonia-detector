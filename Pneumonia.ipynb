{
  "nbformat": 4,
  "nbformat_minor": 0,
  "metadata": {
    "colab": {
      "name": "Pneumonia.ipynb",
      "provenance": [],
      "collapsed_sections": []
    },
    "kernelspec": {
      "name": "python3",
      "display_name": "Python 3"
    },
    "accelerator": "GPU"
  },
  "cells": [
    {
      "cell_type": "code",
      "metadata": {
        "colab": {
          "base_uri": "https://localhost:8080/"
        },
        "id": "MOIk7nyH6sRu",
        "outputId": "80419a2d-4668-416a-f1c5-50b2034251f1"
      },
      "source": [
        "import tensorflow as tf\n",
        "from sklearn.preprocessing import StandardScaler\n",
        "import pandas as pd\n",
        "import seaborn as sns\n",
        "from sklearn.model_selection import train_test_split\n",
        "import numpy as np\n",
        "import cv2\n",
        "import glob\n",
        "import os\n",
        "from skimage import io\n",
        "from keras.preprocessing.image import ImageDataGenerator\n",
        "!ls 'drive/MyDrive/Winter Program 2021/Lung/Data/chest_xray/train'"
      ],
      "execution_count": null,
      "outputs": [
        {
          "output_type": "stream",
          "text": [
            "NORMAL\tPNEUMONIA\n"
          ],
          "name": "stdout"
        }
      ]
    },
    {
      "cell_type": "code",
      "metadata": {
        "colab": {
          "base_uri": "https://localhost:8080/"
        },
        "id": "Kag-APKAdidh",
        "outputId": "cece54d9-5af2-4af2-b3ae-35d581248076"
      },
      "source": [
        "tf.config.experimental.set_memory_growth(tf.config.list_physical_devices('GPU')[0], True)\n",
        "print(tf.__version__)\n",
        "print(tf.config.list_physical_devices('GPU'))"
      ],
      "execution_count": null,
      "outputs": [
        {
          "output_type": "stream",
          "text": [
            "2.4.1\n",
            "[PhysicalDevice(name='/physical_device:GPU:0', device_type='GPU')]\n"
          ],
          "name": "stdout"
        }
      ]
    },
    {
      "cell_type": "code",
      "metadata": {
        "colab": {
          "base_uri": "https://localhost:8080/",
          "height": 52
        },
        "id": "oSmmFwEHLmGa",
        "outputId": "e940b560-3905-4988-8adb-3d7c4afeebd3"
      },
      "source": [
        "\"\"\"\n",
        "try:\n",
        "  tpu = tf.distribute.cluster_resolver.TPUClusterResolver()  # TPU detection\n",
        "  print('Running on TPU ', tpu.cluster_spec().as_dict()['worker'])\n",
        "except ValueError:\n",
        "  raise BaseException('ERROR: Not connected to a TPU runtime; please see the previous cell in this notebook for instructions!')\n",
        "\n",
        "tf.config.experimental_connect_to_cluster(tpu)\n",
        "tf.tpu.experimental.initialize_tpu_system(tpu)\n",
        "tpu_strategy = tf.distribute.experimental.TPUStrategy(tpu)\n",
        "\"\"\""
      ],
      "execution_count": null,
      "outputs": [
        {
          "output_type": "execute_result",
          "data": {
            "application/vnd.google.colaboratory.intrinsic+json": {
              "type": "string"
            },
            "text/plain": [
              "\"\\ntry:\\n  tpu = tf.distribute.cluster_resolver.TPUClusterResolver()  # TPU detection\\n  print('Running on TPU ', tpu.cluster_spec().as_dict()['worker'])\\nexcept ValueError:\\n  raise BaseException('ERROR: Not connected to a TPU runtime; please see the previous cell in this notebook for instructions!')\\n\\ntf.config.experimental_connect_to_cluster(tpu)\\ntf.tpu.experimental.initialize_tpu_system(tpu)\\ntpu_strategy = tf.distribute.experimental.TPUStrategy(tpu)\\n\""
            ]
          },
          "metadata": {
            "tags": []
          },
          "execution_count": 3
        }
      ]
    },
    {
      "cell_type": "code",
      "metadata": {
        "colab": {
          "base_uri": "https://localhost:8080/"
        },
        "id": "-civyFEv82Pv",
        "outputId": "8a69f100-7027-4820-c0b7-1f3872fcf751"
      },
      "source": [
        "train_normal = np.array(glob.glob('drive/MyDrive/Winter Program 2021/Lung/Data/chest_xray/train/NORMAL/*.jpeg'))\n",
        "train_pneumonia = np.array(glob.glob('drive/MyDrive/Winter Program 2021/Lung/Data/chest_xray/train/PNEUMONIA/*.jpeg'))\n",
        "\n",
        "#train_pneumonia = np.random.choice(train_pneumonia, size = 1859)\n",
        "\n",
        "print(train_normal)\n",
        "print(train_pneumonia)\n",
        "\n",
        "print(train_normal.shape)\n",
        "print(train_pneumonia.shape)\n",
        "print(train_normal.shape[0] + train_pneumonia.shape[0])"
      ],
      "execution_count": null,
      "outputs": [
        {
          "output_type": "stream",
          "text": [
            "['drive/MyDrive/Winter Program 2021/Lung/Data/chest_xray/train/NORMAL/NORMAL2-IM-0820-0001.jpeg'\n",
            " 'drive/MyDrive/Winter Program 2021/Lung/Data/chest_xray/train/NORMAL/NORMAL2-IM-0821-0001.jpeg'\n",
            " 'drive/MyDrive/Winter Program 2021/Lung/Data/chest_xray/train/NORMAL/NORMAL2-IM-0822-0001.jpeg'\n",
            " ...\n",
            " 'drive/MyDrive/Winter Program 2021/Lung/Data/chest_xray/train/NORMAL/IM-0591-0001.jpeg'\n",
            " 'drive/MyDrive/Winter Program 2021/Lung/Data/chest_xray/train/NORMAL/IM-0592-0001.jpeg'\n",
            " 'drive/MyDrive/Winter Program 2021/Lung/Data/chest_xray/train/NORMAL/IM-0596-0001.jpeg']\n",
            "['drive/MyDrive/Winter Program 2021/Lung/Data/chest_xray/train/PNEUMONIA/person73_bacteria_356.jpeg'\n",
            " 'drive/MyDrive/Winter Program 2021/Lung/Data/chest_xray/train/PNEUMONIA/person73_bacteria_357.jpeg'\n",
            " 'drive/MyDrive/Winter Program 2021/Lung/Data/chest_xray/train/PNEUMONIA/person73_bacteria_358.jpeg'\n",
            " ...\n",
            " 'drive/MyDrive/Winter Program 2021/Lung/Data/chest_xray/train/PNEUMONIA/person1109_bacteria_3050.jpeg'\n",
            " 'drive/MyDrive/Winter Program 2021/Lung/Data/chest_xray/train/PNEUMONIA/person110_virus_205.jpeg'\n",
            " 'drive/MyDrive/Winter Program 2021/Lung/Data/chest_xray/train/PNEUMONIA/person110_virus_206.jpeg']\n",
            "(1341,)\n",
            "(3875,)\n",
            "5216\n"
          ],
          "name": "stdout"
        }
      ]
    },
    {
      "cell_type": "code",
      "metadata": {
        "colab": {
          "base_uri": "https://localhost:8080/"
        },
        "id": "3lCW5UTKNi5q",
        "outputId": "b8a20772-ca1f-44b2-a0af-4a88d504c08e"
      },
      "source": [
        "df_train = np.concatenate((train_normal, train_pneumonia), axis=None)\n",
        "print(df_train)"
      ],
      "execution_count": null,
      "outputs": [
        {
          "output_type": "stream",
          "text": [
            "['drive/MyDrive/Winter Program 2021/Lung/Data/chest_xray/train/NORMAL/NORMAL2-IM-0820-0001.jpeg'\n",
            " 'drive/MyDrive/Winter Program 2021/Lung/Data/chest_xray/train/NORMAL/NORMAL2-IM-0821-0001.jpeg'\n",
            " 'drive/MyDrive/Winter Program 2021/Lung/Data/chest_xray/train/NORMAL/NORMAL2-IM-0822-0001.jpeg'\n",
            " ...\n",
            " 'drive/MyDrive/Winter Program 2021/Lung/Data/chest_xray/train/PNEUMONIA/person1109_bacteria_3050.jpeg'\n",
            " 'drive/MyDrive/Winter Program 2021/Lung/Data/chest_xray/train/PNEUMONIA/person110_virus_205.jpeg'\n",
            " 'drive/MyDrive/Winter Program 2021/Lung/Data/chest_xray/train/PNEUMONIA/person110_virus_206.jpeg']\n"
          ],
          "name": "stdout"
        }
      ]
    },
    {
      "cell_type": "code",
      "metadata": {
        "colab": {
          "base_uri": "https://localhost:8080/",
          "height": 204
        },
        "id": "2OJVPHnfOQoC",
        "outputId": "eb63e449-1d76-4d30-f99d-b27f948d681f"
      },
      "source": [
        "df_train = pd.DataFrame(df_train, columns=['label'])\n",
        "df_train.head()"
      ],
      "execution_count": null,
      "outputs": [
        {
          "output_type": "execute_result",
          "data": {
            "text/html": [
              "<div>\n",
              "<style scoped>\n",
              "    .dataframe tbody tr th:only-of-type {\n",
              "        vertical-align: middle;\n",
              "    }\n",
              "\n",
              "    .dataframe tbody tr th {\n",
              "        vertical-align: top;\n",
              "    }\n",
              "\n",
              "    .dataframe thead th {\n",
              "        text-align: right;\n",
              "    }\n",
              "</style>\n",
              "<table border=\"1\" class=\"dataframe\">\n",
              "  <thead>\n",
              "    <tr style=\"text-align: right;\">\n",
              "      <th></th>\n",
              "      <th>label</th>\n",
              "    </tr>\n",
              "  </thead>\n",
              "  <tbody>\n",
              "    <tr>\n",
              "      <th>0</th>\n",
              "      <td>drive/MyDrive/Winter Program 2021/Lung/Data/ch...</td>\n",
              "    </tr>\n",
              "    <tr>\n",
              "      <th>1</th>\n",
              "      <td>drive/MyDrive/Winter Program 2021/Lung/Data/ch...</td>\n",
              "    </tr>\n",
              "    <tr>\n",
              "      <th>2</th>\n",
              "      <td>drive/MyDrive/Winter Program 2021/Lung/Data/ch...</td>\n",
              "    </tr>\n",
              "    <tr>\n",
              "      <th>3</th>\n",
              "      <td>drive/MyDrive/Winter Program 2021/Lung/Data/ch...</td>\n",
              "    </tr>\n",
              "    <tr>\n",
              "      <th>4</th>\n",
              "      <td>drive/MyDrive/Winter Program 2021/Lung/Data/ch...</td>\n",
              "    </tr>\n",
              "  </tbody>\n",
              "</table>\n",
              "</div>"
            ],
            "text/plain": [
              "                                               label\n",
              "0  drive/MyDrive/Winter Program 2021/Lung/Data/ch...\n",
              "1  drive/MyDrive/Winter Program 2021/Lung/Data/ch...\n",
              "2  drive/MyDrive/Winter Program 2021/Lung/Data/ch...\n",
              "3  drive/MyDrive/Winter Program 2021/Lung/Data/ch...\n",
              "4  drive/MyDrive/Winter Program 2021/Lung/Data/ch..."
            ]
          },
          "metadata": {
            "tags": []
          },
          "execution_count": 6
        }
      ]
    },
    {
      "cell_type": "code",
      "metadata": {
        "id": "0Beo08vfcJGO"
      },
      "source": [
        "def DefineID(inpIteration):\n",
        "  if(\"NORMAL\" in inpIteration):\n",
        "    return \"NORMAL\"\n",
        "  else:\n",
        "    return \"PNEUMONIC\""
      ],
      "execution_count": null,
      "outputs": []
    },
    {
      "cell_type": "code",
      "metadata": {
        "colab": {
          "base_uri": "https://localhost:8080/",
          "height": 204
        },
        "id": "BWkb0BgYP_1N",
        "outputId": "fea40d62-eda6-4712-97c7-6da16a104106"
      },
      "source": [
        "#df_train.loc['NORMAL' in df_train['label'], 'id'] = 0\n",
        "#df_train.loc['PNEUMONIA' in df_train['label'], 'id'] = 1\n",
        "#df_train.head()\n",
        "#df_train['id'] = np.where('NORMAL' in df_train['label'], 1, 0)\n",
        "df_train[\"id\"] = df_train[\"label\"].apply(DefineID)\n",
        "df_train.head()"
      ],
      "execution_count": null,
      "outputs": [
        {
          "output_type": "execute_result",
          "data": {
            "text/html": [
              "<div>\n",
              "<style scoped>\n",
              "    .dataframe tbody tr th:only-of-type {\n",
              "        vertical-align: middle;\n",
              "    }\n",
              "\n",
              "    .dataframe tbody tr th {\n",
              "        vertical-align: top;\n",
              "    }\n",
              "\n",
              "    .dataframe thead th {\n",
              "        text-align: right;\n",
              "    }\n",
              "</style>\n",
              "<table border=\"1\" class=\"dataframe\">\n",
              "  <thead>\n",
              "    <tr style=\"text-align: right;\">\n",
              "      <th></th>\n",
              "      <th>label</th>\n",
              "      <th>id</th>\n",
              "    </tr>\n",
              "  </thead>\n",
              "  <tbody>\n",
              "    <tr>\n",
              "      <th>0</th>\n",
              "      <td>drive/MyDrive/Winter Program 2021/Lung/Data/ch...</td>\n",
              "      <td>NORMAL</td>\n",
              "    </tr>\n",
              "    <tr>\n",
              "      <th>1</th>\n",
              "      <td>drive/MyDrive/Winter Program 2021/Lung/Data/ch...</td>\n",
              "      <td>NORMAL</td>\n",
              "    </tr>\n",
              "    <tr>\n",
              "      <th>2</th>\n",
              "      <td>drive/MyDrive/Winter Program 2021/Lung/Data/ch...</td>\n",
              "      <td>NORMAL</td>\n",
              "    </tr>\n",
              "    <tr>\n",
              "      <th>3</th>\n",
              "      <td>drive/MyDrive/Winter Program 2021/Lung/Data/ch...</td>\n",
              "      <td>NORMAL</td>\n",
              "    </tr>\n",
              "    <tr>\n",
              "      <th>4</th>\n",
              "      <td>drive/MyDrive/Winter Program 2021/Lung/Data/ch...</td>\n",
              "      <td>NORMAL</td>\n",
              "    </tr>\n",
              "  </tbody>\n",
              "</table>\n",
              "</div>"
            ],
            "text/plain": [
              "                                               label      id\n",
              "0  drive/MyDrive/Winter Program 2021/Lung/Data/ch...  NORMAL\n",
              "1  drive/MyDrive/Winter Program 2021/Lung/Data/ch...  NORMAL\n",
              "2  drive/MyDrive/Winter Program 2021/Lung/Data/ch...  NORMAL\n",
              "3  drive/MyDrive/Winter Program 2021/Lung/Data/ch...  NORMAL\n",
              "4  drive/MyDrive/Winter Program 2021/Lung/Data/ch...  NORMAL"
            ]
          },
          "metadata": {
            "tags": []
          },
          "execution_count": 8
        }
      ]
    },
    {
      "cell_type": "code",
      "metadata": {
        "id": "H6yWzeB1XIop"
      },
      "source": [
        "#print(df_train.loc[5000, 'id'])\n",
        "#print(type(df_train.loc[5000, 'id']))"
      ],
      "execution_count": null,
      "outputs": []
    },
    {
      "cell_type": "code",
      "metadata": {
        "colab": {
          "base_uri": "https://localhost:8080/"
        },
        "id": "52znkwtbhxzM",
        "outputId": "81645856-0990-4342-b9f6-0de371dd7b77"
      },
      "source": [
        "print(df_train.shape)"
      ],
      "execution_count": null,
      "outputs": [
        {
          "output_type": "stream",
          "text": [
            "(5216, 2)\n"
          ],
          "name": "stdout"
        }
      ]
    },
    {
      "cell_type": "code",
      "metadata": {
        "id": "8_jCvKReLGzI"
      },
      "source": [
        "train_datagen = ImageDataGenerator(rescale=1./255,\n",
        "                                  rotation_range=40,\n",
        "                                  width_shift_range=0.2,\n",
        "                                  shear_range=0.2,\n",
        "                                  zoom_range=0.2,\n",
        "                                  horizontal_flip=True)"
      ],
      "execution_count": null,
      "outputs": []
    },
    {
      "cell_type": "code",
      "metadata": {
        "id": "1wp_GWDIcoRQ"
      },
      "source": [
        "test_datagen = ImageDataGenerator(rescale=1./255)"
      ],
      "execution_count": null,
      "outputs": []
    },
    {
      "cell_type": "code",
      "metadata": {
        "colab": {
          "base_uri": "https://localhost:8080/"
        },
        "id": "R9dcTy2Uc-Pv",
        "outputId": "9791d906-d41a-4671-9e7b-1487c7a6554c"
      },
      "source": [
        "train_gen = train_datagen.flow_from_dataframe(dataframe=df_train, x_col='label', y_col='id', target_size=(200, 200), class_mode=\"binary\", shuffle=True)\n",
        "#steps_per_epoch= 326, batch_size= 16"
      ],
      "execution_count": null,
      "outputs": [
        {
          "output_type": "stream",
          "text": [
            "Found 5216 validated image filenames belonging to 2 classes.\n"
          ],
          "name": "stdout"
        }
      ]
    },
    {
      "cell_type": "code",
      "metadata": {
        "id": "1D1DAkm-MacS"
      },
      "source": [
        "vgg = tf.keras.applications.VGG16(include_top=False, input_shape=(200, 200, 3))"
      ],
      "execution_count": null,
      "outputs": []
    },
    {
      "cell_type": "code",
      "metadata": {
        "id": "WqZlD_y-Soly"
      },
      "source": [
        "for i in vgg.layers:\n",
        "  i.trainable = True"
      ],
      "execution_count": null,
      "outputs": []
    },
    {
      "cell_type": "code",
      "metadata": {
        "colab": {
          "base_uri": "https://localhost:8080/"
        },
        "id": "QN5ia_O8fMon",
        "outputId": "a7b45344-1ff9-4511-dc15-29005d951983"
      },
      "source": [
        "vgg.summary()"
      ],
      "execution_count": null,
      "outputs": [
        {
          "output_type": "stream",
          "text": [
            "Model: \"vgg16\"\n",
            "_________________________________________________________________\n",
            "Layer (type)                 Output Shape              Param #   \n",
            "=================================================================\n",
            "input_1 (InputLayer)         [(None, 200, 200, 3)]     0         \n",
            "_________________________________________________________________\n",
            "block1_conv1 (Conv2D)        (None, 200, 200, 64)      1792      \n",
            "_________________________________________________________________\n",
            "block1_conv2 (Conv2D)        (None, 200, 200, 64)      36928     \n",
            "_________________________________________________________________\n",
            "block1_pool (MaxPooling2D)   (None, 100, 100, 64)      0         \n",
            "_________________________________________________________________\n",
            "block2_conv1 (Conv2D)        (None, 100, 100, 128)     73856     \n",
            "_________________________________________________________________\n",
            "block2_conv2 (Conv2D)        (None, 100, 100, 128)     147584    \n",
            "_________________________________________________________________\n",
            "block2_pool (MaxPooling2D)   (None, 50, 50, 128)       0         \n",
            "_________________________________________________________________\n",
            "block3_conv1 (Conv2D)        (None, 50, 50, 256)       295168    \n",
            "_________________________________________________________________\n",
            "block3_conv2 (Conv2D)        (None, 50, 50, 256)       590080    \n",
            "_________________________________________________________________\n",
            "block3_conv3 (Conv2D)        (None, 50, 50, 256)       590080    \n",
            "_________________________________________________________________\n",
            "block3_pool (MaxPooling2D)   (None, 25, 25, 256)       0         \n",
            "_________________________________________________________________\n",
            "block4_conv1 (Conv2D)        (None, 25, 25, 512)       1180160   \n",
            "_________________________________________________________________\n",
            "block4_conv2 (Conv2D)        (None, 25, 25, 512)       2359808   \n",
            "_________________________________________________________________\n",
            "block4_conv3 (Conv2D)        (None, 25, 25, 512)       2359808   \n",
            "_________________________________________________________________\n",
            "block4_pool (MaxPooling2D)   (None, 12, 12, 512)       0         \n",
            "_________________________________________________________________\n",
            "block5_conv1 (Conv2D)        (None, 12, 12, 512)       2359808   \n",
            "_________________________________________________________________\n",
            "block5_conv2 (Conv2D)        (None, 12, 12, 512)       2359808   \n",
            "_________________________________________________________________\n",
            "block5_conv3 (Conv2D)        (None, 12, 12, 512)       2359808   \n",
            "_________________________________________________________________\n",
            "block5_pool (MaxPooling2D)   (None, 6, 6, 512)         0         \n",
            "=================================================================\n",
            "Total params: 14,714,688\n",
            "Trainable params: 14,714,688\n",
            "Non-trainable params: 0\n",
            "_________________________________________________________________\n"
          ],
          "name": "stdout"
        }
      ]
    },
    {
      "cell_type": "code",
      "metadata": {
        "id": "v1jqDTWJfPbM"
      },
      "source": [
        "model = tf.keras.Sequential()\n",
        "model.add(vgg)\n",
        "model.add(tf.keras.layers.GlobalAveragePooling2D())\n",
        "model.add(tf.keras.layers.Dense(256, activation = 'relu'))\n",
        "model.add(tf.keras.layers.Dropout(0.3))\n",
        "model.add(tf.keras.layers.Dense(4096, activation = 'relu'))\n",
        "model.add(tf.keras.layers.Dense(1, activation='sigmoid'))"
      ],
      "execution_count": null,
      "outputs": []
    },
    {
      "cell_type": "code",
      "metadata": {
        "colab": {
          "base_uri": "https://localhost:8080/"
        },
        "id": "ZC8W47hggub4",
        "outputId": "9b634792-8008-4d83-bb2a-8bcbad014662"
      },
      "source": [
        "model.summary()"
      ],
      "execution_count": null,
      "outputs": [
        {
          "output_type": "stream",
          "text": [
            "Model: \"sequential\"\n",
            "_________________________________________________________________\n",
            "Layer (type)                 Output Shape              Param #   \n",
            "=================================================================\n",
            "vgg16 (Functional)           (None, 6, 6, 512)         14714688  \n",
            "_________________________________________________________________\n",
            "global_average_pooling2d (Gl (None, 512)               0         \n",
            "_________________________________________________________________\n",
            "dense (Dense)                (None, 256)               131328    \n",
            "_________________________________________________________________\n",
            "dropout (Dropout)            (None, 256)               0         \n",
            "_________________________________________________________________\n",
            "dense_1 (Dense)              (None, 4096)              1052672   \n",
            "_________________________________________________________________\n",
            "dense_2 (Dense)              (None, 1)                 4097      \n",
            "=================================================================\n",
            "Total params: 15,902,785\n",
            "Trainable params: 15,902,785\n",
            "Non-trainable params: 0\n",
            "_________________________________________________________________\n"
          ],
          "name": "stdout"
        }
      ]
    },
    {
      "cell_type": "code",
      "metadata": {
        "id": "keojJ49gg88N"
      },
      "source": [
        "checkpoint_path_colab = \"training_cp/cp-{epoch:03d}.ckpt\"\n",
        "cp_callback = tf.keras.callbacks.ModelCheckpoint(filepath=checkpoint_path_colab, save_weights_only=True)\n",
        "opt = tf.keras.optimizers.Adam(learning_rate=0.0001)\n",
        "model.compile(optimizer=opt, loss='binary_crossentropy', metrics=['accuracy'])"
      ],
      "execution_count": null,
      "outputs": []
    },
    {
      "cell_type": "code",
      "metadata": {
        "id": "oF51wfxGxRPy"
      },
      "source": [
        "train_gen.reset()"
      ],
      "execution_count": null,
      "outputs": []
    },
    {
      "cell_type": "code",
      "metadata": {
        "colab": {
          "base_uri": "https://localhost:8080/",
          "height": 1000
        },
        "id": "Y-mNr9mOhkpx",
        "outputId": "935b5fa3-ed5d-4f30-9803-12e9f3fcd762"
      },
      "source": [
        "model.fit(train_gen, epochs = 50, callbacks=[cp_callback], batch_size=32)"
      ],
      "execution_count": null,
      "outputs": [
        {
          "output_type": "stream",
          "text": [
            "Epoch 1/50\n",
            "163/163 [==============================] - 4690s 29s/step - loss: 0.3812 - accuracy: 0.8185\n",
            "Epoch 2/50\n",
            "163/163 [==============================] - 99s 604ms/step - loss: 0.2236 - accuracy: 0.9057\n",
            "Epoch 3/50\n",
            "163/163 [==============================] - 98s 602ms/step - loss: 0.1729 - accuracy: 0.9300\n",
            "Epoch 4/50\n",
            "163/163 [==============================] - 99s 604ms/step - loss: 0.1340 - accuracy: 0.9423\n",
            "Epoch 5/50\n",
            "163/163 [==============================] - 99s 604ms/step - loss: 0.1085 - accuracy: 0.9571\n",
            "Epoch 6/50\n",
            "163/163 [==============================] - 98s 602ms/step - loss: 0.0989 - accuracy: 0.9610\n",
            "Epoch 7/50\n",
            "163/163 [==============================] - 99s 604ms/step - loss: 0.0958 - accuracy: 0.9645\n",
            "Epoch 8/50\n",
            "163/163 [==============================] - 99s 604ms/step - loss: 0.0728 - accuracy: 0.9734\n",
            "Epoch 9/50\n",
            "163/163 [==============================] - 98s 601ms/step - loss: 0.0769 - accuracy: 0.9706\n",
            "Epoch 10/50\n",
            "163/163 [==============================] - 98s 603ms/step - loss: 0.0751 - accuracy: 0.9712\n",
            "Epoch 11/50\n",
            "163/163 [==============================] - 99s 606ms/step - loss: 0.0701 - accuracy: 0.9735\n",
            "Epoch 12/50\n",
            "163/163 [==============================] - 99s 603ms/step - loss: 0.0669 - accuracy: 0.9769\n",
            "Epoch 13/50\n",
            "163/163 [==============================] - 98s 603ms/step - loss: 0.0531 - accuracy: 0.9800\n",
            "Epoch 14/50\n",
            "163/163 [==============================] - 98s 603ms/step - loss: 0.0502 - accuracy: 0.9823\n",
            "Epoch 15/50\n",
            "163/163 [==============================] - 98s 601ms/step - loss: 0.0557 - accuracy: 0.9792\n",
            "Epoch 16/50\n",
            "163/163 [==============================] - 98s 600ms/step - loss: 0.0393 - accuracy: 0.9844\n",
            "Epoch 17/50\n",
            "163/163 [==============================] - 98s 601ms/step - loss: 0.0554 - accuracy: 0.9755\n",
            "Epoch 18/50\n",
            "163/163 [==============================] - 98s 599ms/step - loss: 0.0635 - accuracy: 0.9782\n",
            "Epoch 19/50\n",
            "163/163 [==============================] - 98s 600ms/step - loss: 0.0486 - accuracy: 0.9824\n",
            "Epoch 20/50\n",
            "163/163 [==============================] - 98s 603ms/step - loss: 0.0504 - accuracy: 0.9806\n",
            "Epoch 21/50\n",
            "163/163 [==============================] - 98s 602ms/step - loss: 0.0554 - accuracy: 0.9751\n",
            "Epoch 22/50\n",
            "163/163 [==============================] - 98s 601ms/step - loss: 0.0454 - accuracy: 0.9853\n",
            "Epoch 23/50\n",
            "163/163 [==============================] - 98s 603ms/step - loss: 0.0400 - accuracy: 0.9866\n",
            "Epoch 24/50\n",
            "163/163 [==============================] - 98s 603ms/step - loss: 0.0392 - accuracy: 0.9842\n",
            "Epoch 25/50\n",
            "163/163 [==============================] - 98s 603ms/step - loss: 0.0376 - accuracy: 0.9863\n",
            "Epoch 26/50\n",
            "163/163 [==============================] - 99s 604ms/step - loss: 0.0398 - accuracy: 0.9859\n",
            "Epoch 27/50\n",
            "163/163 [==============================] - 99s 604ms/step - loss: 0.0330 - accuracy: 0.9888\n",
            "Epoch 28/50\n",
            "163/163 [==============================] - 98s 600ms/step - loss: 0.0446 - accuracy: 0.9851\n",
            "Epoch 29/50\n",
            "163/163 [==============================] - 98s 601ms/step - loss: 0.0494 - accuracy: 0.9786\n",
            "Epoch 30/50\n",
            " 56/163 [=========>....................] - ETA: 1:04 - loss: 0.0360 - accuracy: 0.9844"
          ],
          "name": "stdout"
        },
        {
          "output_type": "error",
          "ename": "KeyboardInterrupt",
          "evalue": "ignored",
          "traceback": [
            "\u001b[0;31m---------------------------------------------------------------------------\u001b[0m",
            "\u001b[0;31mKeyboardInterrupt\u001b[0m                         Traceback (most recent call last)",
            "\u001b[0;32m<ipython-input-21-a547559256f5>\u001b[0m in \u001b[0;36m<module>\u001b[0;34m()\u001b[0m\n\u001b[0;32m----> 1\u001b[0;31m \u001b[0mmodel\u001b[0m\u001b[0;34m.\u001b[0m\u001b[0mfit\u001b[0m\u001b[0;34m(\u001b[0m\u001b[0mtrain_gen\u001b[0m\u001b[0;34m,\u001b[0m \u001b[0mepochs\u001b[0m \u001b[0;34m=\u001b[0m \u001b[0;36m50\u001b[0m\u001b[0;34m,\u001b[0m \u001b[0mcallbacks\u001b[0m\u001b[0;34m=\u001b[0m\u001b[0;34m[\u001b[0m\u001b[0mcp_callback\u001b[0m\u001b[0;34m]\u001b[0m\u001b[0;34m,\u001b[0m \u001b[0mbatch_size\u001b[0m\u001b[0;34m=\u001b[0m\u001b[0;36m32\u001b[0m\u001b[0;34m)\u001b[0m\u001b[0;34m\u001b[0m\u001b[0;34m\u001b[0m\u001b[0m\n\u001b[0m",
            "\u001b[0;32m/usr/local/lib/python3.6/dist-packages/tensorflow/python/keras/engine/training.py\u001b[0m in \u001b[0;36mfit\u001b[0;34m(self, x, y, batch_size, epochs, verbose, callbacks, validation_split, validation_data, shuffle, class_weight, sample_weight, initial_epoch, steps_per_epoch, validation_steps, validation_batch_size, validation_freq, max_queue_size, workers, use_multiprocessing)\u001b[0m\n\u001b[1;32m   1098\u001b[0m                 _r=1):\n\u001b[1;32m   1099\u001b[0m               \u001b[0mcallbacks\u001b[0m\u001b[0;34m.\u001b[0m\u001b[0mon_train_batch_begin\u001b[0m\u001b[0;34m(\u001b[0m\u001b[0mstep\u001b[0m\u001b[0;34m)\u001b[0m\u001b[0;34m\u001b[0m\u001b[0;34m\u001b[0m\u001b[0m\n\u001b[0;32m-> 1100\u001b[0;31m               \u001b[0mtmp_logs\u001b[0m \u001b[0;34m=\u001b[0m \u001b[0mself\u001b[0m\u001b[0;34m.\u001b[0m\u001b[0mtrain_function\u001b[0m\u001b[0;34m(\u001b[0m\u001b[0miterator\u001b[0m\u001b[0;34m)\u001b[0m\u001b[0;34m\u001b[0m\u001b[0;34m\u001b[0m\u001b[0m\n\u001b[0m\u001b[1;32m   1101\u001b[0m               \u001b[0;32mif\u001b[0m \u001b[0mdata_handler\u001b[0m\u001b[0;34m.\u001b[0m\u001b[0mshould_sync\u001b[0m\u001b[0;34m:\u001b[0m\u001b[0;34m\u001b[0m\u001b[0;34m\u001b[0m\u001b[0m\n\u001b[1;32m   1102\u001b[0m                 \u001b[0mcontext\u001b[0m\u001b[0;34m.\u001b[0m\u001b[0masync_wait\u001b[0m\u001b[0;34m(\u001b[0m\u001b[0;34m)\u001b[0m\u001b[0;34m\u001b[0m\u001b[0;34m\u001b[0m\u001b[0m\n",
            "\u001b[0;32m/usr/local/lib/python3.6/dist-packages/tensorflow/python/eager/def_function.py\u001b[0m in \u001b[0;36m__call__\u001b[0;34m(self, *args, **kwds)\u001b[0m\n\u001b[1;32m    826\u001b[0m     \u001b[0mtracing_count\u001b[0m \u001b[0;34m=\u001b[0m \u001b[0mself\u001b[0m\u001b[0;34m.\u001b[0m\u001b[0mexperimental_get_tracing_count\u001b[0m\u001b[0;34m(\u001b[0m\u001b[0;34m)\u001b[0m\u001b[0;34m\u001b[0m\u001b[0;34m\u001b[0m\u001b[0m\n\u001b[1;32m    827\u001b[0m     \u001b[0;32mwith\u001b[0m \u001b[0mtrace\u001b[0m\u001b[0;34m.\u001b[0m\u001b[0mTrace\u001b[0m\u001b[0;34m(\u001b[0m\u001b[0mself\u001b[0m\u001b[0;34m.\u001b[0m\u001b[0m_name\u001b[0m\u001b[0;34m)\u001b[0m \u001b[0;32mas\u001b[0m \u001b[0mtm\u001b[0m\u001b[0;34m:\u001b[0m\u001b[0;34m\u001b[0m\u001b[0;34m\u001b[0m\u001b[0m\n\u001b[0;32m--> 828\u001b[0;31m       \u001b[0mresult\u001b[0m \u001b[0;34m=\u001b[0m \u001b[0mself\u001b[0m\u001b[0;34m.\u001b[0m\u001b[0m_call\u001b[0m\u001b[0;34m(\u001b[0m\u001b[0;34m*\u001b[0m\u001b[0margs\u001b[0m\u001b[0;34m,\u001b[0m \u001b[0;34m**\u001b[0m\u001b[0mkwds\u001b[0m\u001b[0;34m)\u001b[0m\u001b[0;34m\u001b[0m\u001b[0;34m\u001b[0m\u001b[0m\n\u001b[0m\u001b[1;32m    829\u001b[0m       \u001b[0mcompiler\u001b[0m \u001b[0;34m=\u001b[0m \u001b[0;34m\"xla\"\u001b[0m \u001b[0;32mif\u001b[0m \u001b[0mself\u001b[0m\u001b[0;34m.\u001b[0m\u001b[0m_experimental_compile\u001b[0m \u001b[0;32melse\u001b[0m \u001b[0;34m\"nonXla\"\u001b[0m\u001b[0;34m\u001b[0m\u001b[0;34m\u001b[0m\u001b[0m\n\u001b[1;32m    830\u001b[0m       \u001b[0mnew_tracing_count\u001b[0m \u001b[0;34m=\u001b[0m \u001b[0mself\u001b[0m\u001b[0;34m.\u001b[0m\u001b[0mexperimental_get_tracing_count\u001b[0m\u001b[0;34m(\u001b[0m\u001b[0;34m)\u001b[0m\u001b[0;34m\u001b[0m\u001b[0;34m\u001b[0m\u001b[0m\n",
            "\u001b[0;32m/usr/local/lib/python3.6/dist-packages/tensorflow/python/eager/def_function.py\u001b[0m in \u001b[0;36m_call\u001b[0;34m(self, *args, **kwds)\u001b[0m\n\u001b[1;32m    853\u001b[0m       \u001b[0;31m# In this case we have created variables on the first call, so we run the\u001b[0m\u001b[0;34m\u001b[0m\u001b[0;34m\u001b[0m\u001b[0;34m\u001b[0m\u001b[0m\n\u001b[1;32m    854\u001b[0m       \u001b[0;31m# defunned version which is guaranteed to never create variables.\u001b[0m\u001b[0;34m\u001b[0m\u001b[0;34m\u001b[0m\u001b[0;34m\u001b[0m\u001b[0m\n\u001b[0;32m--> 855\u001b[0;31m       \u001b[0;32mreturn\u001b[0m \u001b[0mself\u001b[0m\u001b[0;34m.\u001b[0m\u001b[0m_stateless_fn\u001b[0m\u001b[0;34m(\u001b[0m\u001b[0;34m*\u001b[0m\u001b[0margs\u001b[0m\u001b[0;34m,\u001b[0m \u001b[0;34m**\u001b[0m\u001b[0mkwds\u001b[0m\u001b[0;34m)\u001b[0m  \u001b[0;31m# pylint: disable=not-callable\u001b[0m\u001b[0;34m\u001b[0m\u001b[0;34m\u001b[0m\u001b[0m\n\u001b[0m\u001b[1;32m    856\u001b[0m     \u001b[0;32melif\u001b[0m \u001b[0mself\u001b[0m\u001b[0;34m.\u001b[0m\u001b[0m_stateful_fn\u001b[0m \u001b[0;32mis\u001b[0m \u001b[0;32mnot\u001b[0m \u001b[0;32mNone\u001b[0m\u001b[0;34m:\u001b[0m\u001b[0;34m\u001b[0m\u001b[0;34m\u001b[0m\u001b[0m\n\u001b[1;32m    857\u001b[0m       \u001b[0;31m# Release the lock early so that multiple threads can perform the call\u001b[0m\u001b[0;34m\u001b[0m\u001b[0;34m\u001b[0m\u001b[0;34m\u001b[0m\u001b[0m\n",
            "\u001b[0;32m/usr/local/lib/python3.6/dist-packages/tensorflow/python/eager/function.py\u001b[0m in \u001b[0;36m__call__\u001b[0;34m(self, *args, **kwargs)\u001b[0m\n\u001b[1;32m   2941\u001b[0m        filtered_flat_args) = self._maybe_define_function(args, kwargs)\n\u001b[1;32m   2942\u001b[0m     return graph_function._call_flat(\n\u001b[0;32m-> 2943\u001b[0;31m         filtered_flat_args, captured_inputs=graph_function.captured_inputs)  # pylint: disable=protected-access\n\u001b[0m\u001b[1;32m   2944\u001b[0m \u001b[0;34m\u001b[0m\u001b[0m\n\u001b[1;32m   2945\u001b[0m   \u001b[0;34m@\u001b[0m\u001b[0mproperty\u001b[0m\u001b[0;34m\u001b[0m\u001b[0;34m\u001b[0m\u001b[0m\n",
            "\u001b[0;32m/usr/local/lib/python3.6/dist-packages/tensorflow/python/eager/function.py\u001b[0m in \u001b[0;36m_call_flat\u001b[0;34m(self, args, captured_inputs, cancellation_manager)\u001b[0m\n\u001b[1;32m   1917\u001b[0m       \u001b[0;31m# No tape is watching; skip to running the function.\u001b[0m\u001b[0;34m\u001b[0m\u001b[0;34m\u001b[0m\u001b[0;34m\u001b[0m\u001b[0m\n\u001b[1;32m   1918\u001b[0m       return self._build_call_outputs(self._inference_function.call(\n\u001b[0;32m-> 1919\u001b[0;31m           ctx, args, cancellation_manager=cancellation_manager))\n\u001b[0m\u001b[1;32m   1920\u001b[0m     forward_backward = self._select_forward_and_backward_functions(\n\u001b[1;32m   1921\u001b[0m         \u001b[0margs\u001b[0m\u001b[0;34m,\u001b[0m\u001b[0;34m\u001b[0m\u001b[0;34m\u001b[0m\u001b[0m\n",
            "\u001b[0;32m/usr/local/lib/python3.6/dist-packages/tensorflow/python/eager/function.py\u001b[0m in \u001b[0;36mcall\u001b[0;34m(self, ctx, args, cancellation_manager)\u001b[0m\n\u001b[1;32m    558\u001b[0m               \u001b[0minputs\u001b[0m\u001b[0;34m=\u001b[0m\u001b[0margs\u001b[0m\u001b[0;34m,\u001b[0m\u001b[0;34m\u001b[0m\u001b[0;34m\u001b[0m\u001b[0m\n\u001b[1;32m    559\u001b[0m               \u001b[0mattrs\u001b[0m\u001b[0;34m=\u001b[0m\u001b[0mattrs\u001b[0m\u001b[0;34m,\u001b[0m\u001b[0;34m\u001b[0m\u001b[0;34m\u001b[0m\u001b[0m\n\u001b[0;32m--> 560\u001b[0;31m               ctx=ctx)\n\u001b[0m\u001b[1;32m    561\u001b[0m         \u001b[0;32melse\u001b[0m\u001b[0;34m:\u001b[0m\u001b[0;34m\u001b[0m\u001b[0;34m\u001b[0m\u001b[0m\n\u001b[1;32m    562\u001b[0m           outputs = execute.execute_with_cancellation(\n",
            "\u001b[0;32m/usr/local/lib/python3.6/dist-packages/tensorflow/python/eager/execute.py\u001b[0m in \u001b[0;36mquick_execute\u001b[0;34m(op_name, num_outputs, inputs, attrs, ctx, name)\u001b[0m\n\u001b[1;32m     58\u001b[0m     \u001b[0mctx\u001b[0m\u001b[0;34m.\u001b[0m\u001b[0mensure_initialized\u001b[0m\u001b[0;34m(\u001b[0m\u001b[0;34m)\u001b[0m\u001b[0;34m\u001b[0m\u001b[0;34m\u001b[0m\u001b[0m\n\u001b[1;32m     59\u001b[0m     tensors = pywrap_tfe.TFE_Py_Execute(ctx._handle, device_name, op_name,\n\u001b[0;32m---> 60\u001b[0;31m                                         inputs, attrs, num_outputs)\n\u001b[0m\u001b[1;32m     61\u001b[0m   \u001b[0;32mexcept\u001b[0m \u001b[0mcore\u001b[0m\u001b[0;34m.\u001b[0m\u001b[0m_NotOkStatusException\u001b[0m \u001b[0;32mas\u001b[0m \u001b[0me\u001b[0m\u001b[0;34m:\u001b[0m\u001b[0;34m\u001b[0m\u001b[0;34m\u001b[0m\u001b[0m\n\u001b[1;32m     62\u001b[0m     \u001b[0;32mif\u001b[0m \u001b[0mname\u001b[0m \u001b[0;32mis\u001b[0m \u001b[0;32mnot\u001b[0m \u001b[0;32mNone\u001b[0m\u001b[0;34m:\u001b[0m\u001b[0;34m\u001b[0m\u001b[0;34m\u001b[0m\u001b[0m\n",
            "\u001b[0;31mKeyboardInterrupt\u001b[0m: "
          ]
        }
      ]
    },
    {
      "cell_type": "code",
      "metadata": {
        "colab": {
          "base_uri": "https://localhost:8080/"
        },
        "id": "Ckt65SFtif-8",
        "outputId": "caf766cd-dc9f-4f92-c649-f269d97d96af"
      },
      "source": [
        "test_normal = np.array(glob.glob('drive/MyDrive/Winter Program 2021/Lung/Data/chest_xray/test/NORMAL/*.jpeg'))\n",
        "test_pneumonia = np.array(glob.glob('drive/MyDrive/Winter Program 2021/Lung/Data/chest_xray/test/PNEUMONIA/*.jpeg'))\n",
        "df_test = np.concatenate((test_normal, test_pneumonia), axis=None)\n",
        "df_test = pd.DataFrame(df_test, columns=['label'])\n",
        "print(df_test)\n",
        "df_test[\"id\"] = df_test[\"label\"].apply(DefineID)\n",
        "test_gen = test_datagen.flow_from_dataframe(dataframe=df_test, x_col='label', y_col='id', target_size=(200, 200), class_mode=\"binary\", shuffle=False)"
      ],
      "execution_count": null,
      "outputs": [
        {
          "output_type": "stream",
          "text": [
            "                                                 label\n",
            "0    drive/MyDrive/Winter Program 2021/Lung/Data/ch...\n",
            "1    drive/MyDrive/Winter Program 2021/Lung/Data/ch...\n",
            "2    drive/MyDrive/Winter Program 2021/Lung/Data/ch...\n",
            "3    drive/MyDrive/Winter Program 2021/Lung/Data/ch...\n",
            "4    drive/MyDrive/Winter Program 2021/Lung/Data/ch...\n",
            "..                                                 ...\n",
            "619  drive/MyDrive/Winter Program 2021/Lung/Data/ch...\n",
            "620  drive/MyDrive/Winter Program 2021/Lung/Data/ch...\n",
            "621  drive/MyDrive/Winter Program 2021/Lung/Data/ch...\n",
            "622  drive/MyDrive/Winter Program 2021/Lung/Data/ch...\n",
            "623  drive/MyDrive/Winter Program 2021/Lung/Data/ch...\n",
            "\n",
            "[624 rows x 1 columns]\n",
            "Found 624 validated image filenames belonging to 2 classes.\n"
          ],
          "name": "stdout"
        }
      ]
    },
    {
      "cell_type": "code",
      "metadata": {
        "colab": {
          "base_uri": "https://localhost:8080/"
        },
        "id": "Fc69_HnwiQvy",
        "outputId": "6084bc59-0c85-471f-ac54-f1cc03b8c6bd"
      },
      "source": [
        "model.load_weights('/content/training_cp/cp-014.ckpt')"
      ],
      "execution_count": null,
      "outputs": [
        {
          "output_type": "execute_result",
          "data": {
            "text/plain": [
              "<tensorflow.python.training.tracking.util.CheckpointLoadStatus at 0x7f7f2a3c00f0>"
            ]
          },
          "metadata": {
            "tags": []
          },
          "execution_count": 39
        }
      ]
    },
    {
      "cell_type": "code",
      "metadata": {
        "colab": {
          "base_uri": "https://localhost:8080/"
        },
        "id": "w5slI3Nyidxl",
        "outputId": "32060911-37cf-4138-cece-81399a6fc4b9"
      },
      "source": [
        "model.evaluate(test_gen, verbose=1)"
      ],
      "execution_count": null,
      "outputs": [
        {
          "output_type": "stream",
          "text": [
            "20/20 [==============================] - 6s 269ms/step - loss: 0.2153 - accuracy: 0.9327\n"
          ],
          "name": "stdout"
        },
        {
          "output_type": "execute_result",
          "data": {
            "text/plain": [
              "[0.2152969390153885, 0.932692289352417]"
            ]
          },
          "metadata": {
            "tags": []
          },
          "execution_count": 40
        }
      ]
    },
    {
      "cell_type": "code",
      "metadata": {
        "colab": {
          "base_uri": "https://localhost:8080/"
        },
        "id": "cfDJj-489-qv",
        "outputId": "5065efa6-5882-4480-e556-ec19b49434df"
      },
      "source": [
        "from sklearn.metrics import confusion_matrix\n",
        "y_true = df_test['id'].to_numpy()\n",
        "print(y_true)\n",
        "test_gen.reset()\n",
        "y_hat = np.rint(model.predict(test_gen).transpose()[0])\n",
        "print(y_hat)\n"
      ],
      "execution_count": null,
      "outputs": [
        {
          "output_type": "stream",
          "text": [
            "['NORMAL' 'NORMAL' 'NORMAL' 'NORMAL' 'NORMAL' 'NORMAL' 'NORMAL' 'NORMAL'\n",
            " 'NORMAL' 'NORMAL' 'NORMAL' 'NORMAL' 'NORMAL' 'NORMAL' 'NORMAL' 'NORMAL'\n",
            " 'NORMAL' 'NORMAL' 'NORMAL' 'NORMAL' 'NORMAL' 'NORMAL' 'NORMAL' 'NORMAL'\n",
            " 'NORMAL' 'NORMAL' 'NORMAL' 'NORMAL' 'NORMAL' 'NORMAL' 'NORMAL' 'NORMAL'\n",
            " 'NORMAL' 'NORMAL' 'NORMAL' 'NORMAL' 'NORMAL' 'NORMAL' 'NORMAL' 'NORMAL'\n",
            " 'NORMAL' 'NORMAL' 'NORMAL' 'NORMAL' 'NORMAL' 'NORMAL' 'NORMAL' 'NORMAL'\n",
            " 'NORMAL' 'NORMAL' 'NORMAL' 'NORMAL' 'NORMAL' 'NORMAL' 'NORMAL' 'NORMAL'\n",
            " 'NORMAL' 'NORMAL' 'NORMAL' 'NORMAL' 'NORMAL' 'NORMAL' 'NORMAL' 'NORMAL'\n",
            " 'NORMAL' 'NORMAL' 'NORMAL' 'NORMAL' 'NORMAL' 'NORMAL' 'NORMAL' 'NORMAL'\n",
            " 'NORMAL' 'NORMAL' 'NORMAL' 'NORMAL' 'NORMAL' 'NORMAL' 'NORMAL' 'NORMAL'\n",
            " 'NORMAL' 'NORMAL' 'NORMAL' 'NORMAL' 'NORMAL' 'NORMAL' 'NORMAL' 'NORMAL'\n",
            " 'NORMAL' 'NORMAL' 'NORMAL' 'NORMAL' 'NORMAL' 'NORMAL' 'NORMAL' 'NORMAL'\n",
            " 'NORMAL' 'NORMAL' 'NORMAL' 'NORMAL' 'NORMAL' 'NORMAL' 'NORMAL' 'NORMAL'\n",
            " 'NORMAL' 'NORMAL' 'NORMAL' 'NORMAL' 'NORMAL' 'NORMAL' 'NORMAL' 'NORMAL'\n",
            " 'NORMAL' 'NORMAL' 'NORMAL' 'NORMAL' 'NORMAL' 'NORMAL' 'NORMAL' 'NORMAL'\n",
            " 'NORMAL' 'NORMAL' 'NORMAL' 'NORMAL' 'NORMAL' 'NORMAL' 'NORMAL' 'NORMAL'\n",
            " 'NORMAL' 'NORMAL' 'NORMAL' 'NORMAL' 'NORMAL' 'NORMAL' 'NORMAL' 'NORMAL'\n",
            " 'NORMAL' 'NORMAL' 'NORMAL' 'NORMAL' 'NORMAL' 'NORMAL' 'NORMAL' 'NORMAL'\n",
            " 'NORMAL' 'NORMAL' 'NORMAL' 'NORMAL' 'NORMAL' 'NORMAL' 'NORMAL' 'NORMAL'\n",
            " 'NORMAL' 'NORMAL' 'NORMAL' 'NORMAL' 'NORMAL' 'NORMAL' 'NORMAL' 'NORMAL'\n",
            " 'NORMAL' 'NORMAL' 'NORMAL' 'NORMAL' 'NORMAL' 'NORMAL' 'NORMAL' 'NORMAL'\n",
            " 'NORMAL' 'NORMAL' 'NORMAL' 'NORMAL' 'NORMAL' 'NORMAL' 'NORMAL' 'NORMAL'\n",
            " 'NORMAL' 'NORMAL' 'NORMAL' 'NORMAL' 'NORMAL' 'NORMAL' 'NORMAL' 'NORMAL'\n",
            " 'NORMAL' 'NORMAL' 'NORMAL' 'NORMAL' 'NORMAL' 'NORMAL' 'NORMAL' 'NORMAL'\n",
            " 'NORMAL' 'NORMAL' 'NORMAL' 'NORMAL' 'NORMAL' 'NORMAL' 'NORMAL' 'NORMAL'\n",
            " 'NORMAL' 'NORMAL' 'NORMAL' 'NORMAL' 'NORMAL' 'NORMAL' 'NORMAL' 'NORMAL'\n",
            " 'NORMAL' 'NORMAL' 'NORMAL' 'NORMAL' 'NORMAL' 'NORMAL' 'NORMAL' 'NORMAL'\n",
            " 'NORMAL' 'NORMAL' 'NORMAL' 'NORMAL' 'NORMAL' 'NORMAL' 'NORMAL' 'NORMAL'\n",
            " 'NORMAL' 'NORMAL' 'NORMAL' 'NORMAL' 'NORMAL' 'NORMAL' 'NORMAL' 'NORMAL'\n",
            " 'NORMAL' 'NORMAL' 'PNEUMONIC' 'PNEUMONIC' 'PNEUMONIC' 'PNEUMONIC'\n",
            " 'PNEUMONIC' 'PNEUMONIC' 'PNEUMONIC' 'PNEUMONIC' 'PNEUMONIC' 'PNEUMONIC'\n",
            " 'PNEUMONIC' 'PNEUMONIC' 'PNEUMONIC' 'PNEUMONIC' 'PNEUMONIC' 'PNEUMONIC'\n",
            " 'PNEUMONIC' 'PNEUMONIC' 'PNEUMONIC' 'PNEUMONIC' 'PNEUMONIC' 'PNEUMONIC'\n",
            " 'PNEUMONIC' 'PNEUMONIC' 'PNEUMONIC' 'PNEUMONIC' 'PNEUMONIC' 'PNEUMONIC'\n",
            " 'PNEUMONIC' 'PNEUMONIC' 'PNEUMONIC' 'PNEUMONIC' 'PNEUMONIC' 'PNEUMONIC'\n",
            " 'PNEUMONIC' 'PNEUMONIC' 'PNEUMONIC' 'PNEUMONIC' 'PNEUMONIC' 'PNEUMONIC'\n",
            " 'PNEUMONIC' 'PNEUMONIC' 'PNEUMONIC' 'PNEUMONIC' 'PNEUMONIC' 'PNEUMONIC'\n",
            " 'PNEUMONIC' 'PNEUMONIC' 'PNEUMONIC' 'PNEUMONIC' 'PNEUMONIC' 'PNEUMONIC'\n",
            " 'PNEUMONIC' 'PNEUMONIC' 'PNEUMONIC' 'PNEUMONIC' 'PNEUMONIC' 'PNEUMONIC'\n",
            " 'PNEUMONIC' 'PNEUMONIC' 'PNEUMONIC' 'PNEUMONIC' 'PNEUMONIC' 'PNEUMONIC'\n",
            " 'PNEUMONIC' 'PNEUMONIC' 'PNEUMONIC' 'PNEUMONIC' 'PNEUMONIC' 'PNEUMONIC'\n",
            " 'PNEUMONIC' 'PNEUMONIC' 'PNEUMONIC' 'PNEUMONIC' 'PNEUMONIC' 'PNEUMONIC'\n",
            " 'PNEUMONIC' 'PNEUMONIC' 'PNEUMONIC' 'PNEUMONIC' 'PNEUMONIC' 'PNEUMONIC'\n",
            " 'PNEUMONIC' 'PNEUMONIC' 'PNEUMONIC' 'PNEUMONIC' 'PNEUMONIC' 'PNEUMONIC'\n",
            " 'PNEUMONIC' 'PNEUMONIC' 'PNEUMONIC' 'PNEUMONIC' 'PNEUMONIC' 'PNEUMONIC'\n",
            " 'PNEUMONIC' 'PNEUMONIC' 'PNEUMONIC' 'PNEUMONIC' 'PNEUMONIC' 'PNEUMONIC'\n",
            " 'PNEUMONIC' 'PNEUMONIC' 'PNEUMONIC' 'PNEUMONIC' 'PNEUMONIC' 'PNEUMONIC'\n",
            " 'PNEUMONIC' 'PNEUMONIC' 'PNEUMONIC' 'PNEUMONIC' 'PNEUMONIC' 'PNEUMONIC'\n",
            " 'PNEUMONIC' 'PNEUMONIC' 'PNEUMONIC' 'PNEUMONIC' 'PNEUMONIC' 'PNEUMONIC'\n",
            " 'PNEUMONIC' 'PNEUMONIC' 'PNEUMONIC' 'PNEUMONIC' 'PNEUMONIC' 'PNEUMONIC'\n",
            " 'PNEUMONIC' 'PNEUMONIC' 'PNEUMONIC' 'PNEUMONIC' 'PNEUMONIC' 'PNEUMONIC'\n",
            " 'PNEUMONIC' 'PNEUMONIC' 'PNEUMONIC' 'PNEUMONIC' 'PNEUMONIC' 'PNEUMONIC'\n",
            " 'PNEUMONIC' 'PNEUMONIC' 'PNEUMONIC' 'PNEUMONIC' 'PNEUMONIC' 'PNEUMONIC'\n",
            " 'PNEUMONIC' 'PNEUMONIC' 'PNEUMONIC' 'PNEUMONIC' 'PNEUMONIC' 'PNEUMONIC'\n",
            " 'PNEUMONIC' 'PNEUMONIC' 'PNEUMONIC' 'PNEUMONIC' 'PNEUMONIC' 'PNEUMONIC'\n",
            " 'PNEUMONIC' 'PNEUMONIC' 'PNEUMONIC' 'PNEUMONIC' 'PNEUMONIC' 'PNEUMONIC'\n",
            " 'PNEUMONIC' 'PNEUMONIC' 'PNEUMONIC' 'PNEUMONIC' 'PNEUMONIC' 'PNEUMONIC'\n",
            " 'PNEUMONIC' 'PNEUMONIC' 'PNEUMONIC' 'PNEUMONIC' 'PNEUMONIC' 'PNEUMONIC'\n",
            " 'PNEUMONIC' 'PNEUMONIC' 'PNEUMONIC' 'PNEUMONIC' 'PNEUMONIC' 'PNEUMONIC'\n",
            " 'PNEUMONIC' 'PNEUMONIC' 'PNEUMONIC' 'PNEUMONIC' 'PNEUMONIC' 'PNEUMONIC'\n",
            " 'PNEUMONIC' 'PNEUMONIC' 'PNEUMONIC' 'PNEUMONIC' 'PNEUMONIC' 'PNEUMONIC'\n",
            " 'PNEUMONIC' 'PNEUMONIC' 'PNEUMONIC' 'PNEUMONIC' 'PNEUMONIC' 'PNEUMONIC'\n",
            " 'PNEUMONIC' 'PNEUMONIC' 'PNEUMONIC' 'PNEUMONIC' 'PNEUMONIC' 'PNEUMONIC'\n",
            " 'PNEUMONIC' 'PNEUMONIC' 'PNEUMONIC' 'PNEUMONIC' 'PNEUMONIC' 'PNEUMONIC'\n",
            " 'PNEUMONIC' 'PNEUMONIC' 'PNEUMONIC' 'PNEUMONIC' 'PNEUMONIC' 'PNEUMONIC'\n",
            " 'PNEUMONIC' 'PNEUMONIC' 'PNEUMONIC' 'PNEUMONIC' 'PNEUMONIC' 'PNEUMONIC'\n",
            " 'PNEUMONIC' 'PNEUMONIC' 'PNEUMONIC' 'PNEUMONIC' 'PNEUMONIC' 'PNEUMONIC'\n",
            " 'PNEUMONIC' 'PNEUMONIC' 'PNEUMONIC' 'PNEUMONIC' 'PNEUMONIC' 'PNEUMONIC'\n",
            " 'PNEUMONIC' 'PNEUMONIC' 'PNEUMONIC' 'PNEUMONIC' 'PNEUMONIC' 'PNEUMONIC'\n",
            " 'PNEUMONIC' 'PNEUMONIC' 'PNEUMONIC' 'PNEUMONIC' 'PNEUMONIC' 'PNEUMONIC'\n",
            " 'PNEUMONIC' 'PNEUMONIC' 'PNEUMONIC' 'PNEUMONIC' 'PNEUMONIC' 'PNEUMONIC'\n",
            " 'PNEUMONIC' 'PNEUMONIC' 'PNEUMONIC' 'PNEUMONIC' 'PNEUMONIC' 'PNEUMONIC'\n",
            " 'PNEUMONIC' 'PNEUMONIC' 'PNEUMONIC' 'PNEUMONIC' 'PNEUMONIC' 'PNEUMONIC'\n",
            " 'PNEUMONIC' 'PNEUMONIC' 'PNEUMONIC' 'PNEUMONIC' 'PNEUMONIC' 'PNEUMONIC'\n",
            " 'PNEUMONIC' 'PNEUMONIC' 'PNEUMONIC' 'PNEUMONIC' 'PNEUMONIC' 'PNEUMONIC'\n",
            " 'PNEUMONIC' 'PNEUMONIC' 'PNEUMONIC' 'PNEUMONIC' 'PNEUMONIC' 'PNEUMONIC'\n",
            " 'PNEUMONIC' 'PNEUMONIC' 'PNEUMONIC' 'PNEUMONIC' 'PNEUMONIC' 'PNEUMONIC'\n",
            " 'PNEUMONIC' 'PNEUMONIC' 'PNEUMONIC' 'PNEUMONIC' 'PNEUMONIC' 'PNEUMONIC'\n",
            " 'PNEUMONIC' 'PNEUMONIC' 'PNEUMONIC' 'PNEUMONIC' 'PNEUMONIC' 'PNEUMONIC'\n",
            " 'PNEUMONIC' 'PNEUMONIC' 'PNEUMONIC' 'PNEUMONIC' 'PNEUMONIC' 'PNEUMONIC'\n",
            " 'PNEUMONIC' 'PNEUMONIC' 'PNEUMONIC' 'PNEUMONIC' 'PNEUMONIC' 'PNEUMONIC'\n",
            " 'PNEUMONIC' 'PNEUMONIC' 'PNEUMONIC' 'PNEUMONIC' 'PNEUMONIC' 'PNEUMONIC'\n",
            " 'PNEUMONIC' 'PNEUMONIC' 'PNEUMONIC' 'PNEUMONIC' 'PNEUMONIC' 'PNEUMONIC'\n",
            " 'PNEUMONIC' 'PNEUMONIC' 'PNEUMONIC' 'PNEUMONIC' 'PNEUMONIC' 'PNEUMONIC'\n",
            " 'PNEUMONIC' 'PNEUMONIC' 'PNEUMONIC' 'PNEUMONIC' 'PNEUMONIC' 'PNEUMONIC'\n",
            " 'PNEUMONIC' 'PNEUMONIC' 'PNEUMONIC' 'PNEUMONIC' 'PNEUMONIC' 'PNEUMONIC'\n",
            " 'PNEUMONIC' 'PNEUMONIC' 'PNEUMONIC' 'PNEUMONIC' 'PNEUMONIC' 'PNEUMONIC'\n",
            " 'PNEUMONIC' 'PNEUMONIC' 'PNEUMONIC' 'PNEUMONIC' 'PNEUMONIC' 'PNEUMONIC'\n",
            " 'PNEUMONIC' 'PNEUMONIC' 'PNEUMONIC' 'PNEUMONIC' 'PNEUMONIC' 'PNEUMONIC'\n",
            " 'PNEUMONIC' 'PNEUMONIC' 'PNEUMONIC' 'PNEUMONIC' 'PNEUMONIC' 'PNEUMONIC'\n",
            " 'PNEUMONIC' 'PNEUMONIC' 'PNEUMONIC' 'PNEUMONIC' 'PNEUMONIC' 'PNEUMONIC'\n",
            " 'PNEUMONIC' 'PNEUMONIC' 'PNEUMONIC' 'PNEUMONIC' 'PNEUMONIC' 'PNEUMONIC'\n",
            " 'PNEUMONIC' 'PNEUMONIC' 'PNEUMONIC' 'PNEUMONIC' 'PNEUMONIC' 'PNEUMONIC'\n",
            " 'PNEUMONIC' 'PNEUMONIC' 'PNEUMONIC' 'PNEUMONIC' 'PNEUMONIC' 'PNEUMONIC'\n",
            " 'PNEUMONIC' 'PNEUMONIC']\n",
            "[0. 0. 0. 0. 0. 0. 0. 0. 0. 0. 0. 0. 0. 0. 0. 0. 1. 0. 0. 0. 0. 0. 0. 0.\n",
            " 0. 0. 0. 0. 0. 0. 0. 0. 0. 0. 0. 0. 0. 0. 0. 0. 0. 0. 0. 0. 0. 1. 0. 0.\n",
            " 0. 0. 0. 0. 0. 0. 0. 0. 0. 0. 0. 0. 0. 0. 0. 0. 0. 0. 0. 0. 0. 0. 0. 0.\n",
            " 0. 0. 0. 0. 0. 0. 0. 0. 0. 0. 0. 0. 0. 0. 0. 0. 0. 1. 1. 0. 0. 0. 0. 0.\n",
            " 0. 0. 0. 0. 0. 1. 0. 0. 0. 0. 0. 0. 1. 1. 0. 0. 0. 1. 1. 0. 0. 1. 1. 1.\n",
            " 1. 1. 0. 1. 1. 0. 1. 0. 0. 1. 1. 1. 1. 1. 1. 1. 1. 1. 0. 0. 1. 0. 1. 1.\n",
            " 1. 1. 1. 1. 0. 0. 0. 0. 0. 0. 0. 0. 0. 0. 1. 1. 0. 0. 0. 0. 0. 0. 0. 0.\n",
            " 0. 0. 0. 0. 0. 0. 0. 0. 0. 0. 0. 0. 0. 1. 0. 0. 0. 1. 0. 0. 0. 0. 0. 0.\n",
            " 0. 1. 0. 0. 0. 0. 0. 0. 0. 0. 0. 0. 0. 0. 0. 0. 0. 0. 0. 0. 0. 0. 0. 0.\n",
            " 0. 0. 0. 0. 0. 0. 0. 0. 0. 0. 1. 0. 0. 0. 0. 0. 0. 0. 1. 1. 1. 1. 1. 1.\n",
            " 1. 1. 1. 1. 1. 1. 1. 1. 1. 1. 1. 1. 1. 1. 1. 1. 1. 1. 1. 1. 1. 1. 1. 1.\n",
            " 1. 1. 1. 1. 1. 1. 1. 1. 1. 1. 1. 1. 1. 1. 1. 1. 1. 1. 1. 1. 1. 1. 1. 1.\n",
            " 1. 1. 1. 1. 1. 1. 1. 1. 1. 1. 1. 1. 1. 1. 1. 1. 1. 1. 1. 1. 1. 1. 1. 1.\n",
            " 1. 1. 1. 1. 1. 1. 1. 1. 1. 1. 1. 1. 1. 1. 1. 1. 1. 1. 1. 1. 1. 1. 1. 1.\n",
            " 1. 1. 1. 1. 1. 1. 1. 1. 1. 1. 1. 1. 1. 1. 1. 1. 1. 1. 1. 1. 1. 1. 1. 1.\n",
            " 1. 1. 1. 1. 1. 1. 1. 1. 1. 1. 1. 1. 1. 1. 1. 1. 1. 1. 1. 1. 1. 1. 1. 1.\n",
            " 1. 1. 1. 1. 1. 1. 0. 0. 1. 1. 1. 1. 1. 1. 1. 1. 1. 1. 1. 1. 1. 1. 1. 1.\n",
            " 1. 1. 1. 1. 1. 1. 1. 1. 1. 1. 1. 1. 1. 1. 1. 1. 1. 1. 1. 1. 1. 1. 1. 1.\n",
            " 1. 1. 1. 1. 1. 1. 1. 1. 1. 1. 1. 1. 1. 1. 1. 1. 1. 1. 1. 1. 1. 1. 1. 1.\n",
            " 1. 1. 1. 1. 1. 1. 1. 1. 1. 1. 1. 1. 1. 1. 1. 1. 1. 1. 1. 1. 1. 1. 1. 1.\n",
            " 1. 1. 1. 1. 1. 1. 1. 1. 1. 1. 1. 1. 1. 1. 1. 1. 1. 1. 1. 1. 1. 1. 1. 1.\n",
            " 1. 1. 1. 1. 1. 1. 1. 1. 1. 1. 1. 1. 1. 1. 1. 1. 1. 1. 1. 1. 1. 1. 1. 1.\n",
            " 1. 1. 1. 1. 1. 1. 1. 1. 1. 1. 1. 1. 1. 1. 1. 1. 1. 1. 1. 1. 1. 1. 1. 1.\n",
            " 1. 1. 1. 1. 1. 1. 1. 1. 1. 1. 1. 1. 1. 1. 1. 0. 1. 1. 1. 1. 1. 1. 1. 1.\n",
            " 1. 1. 1. 1. 1. 1. 1. 1. 1. 1. 1. 1. 1. 1. 1. 1. 1. 1. 1. 1. 1. 1. 1. 1.\n",
            " 1. 1. 1. 1. 1. 1. 1. 1. 1. 1. 1. 1. 1. 1. 1. 1. 1. 1. 1. 1. 1. 1. 1. 1.]\n"
          ],
          "name": "stdout"
        }
      ]
    },
    {
      "cell_type": "code",
      "metadata": {
        "colab": {
          "base_uri": "https://localhost:8080/"
        },
        "id": "fhBkmg7bA7C_",
        "outputId": "cdde1fd6-3e11-4a9b-948d-193fa1b96353"
      },
      "source": [
        "y_true_num = []\n",
        "for i in y_true:\n",
        "  if i == \"NORMAL\":\n",
        "    y_true_num.append(0)\n",
        "  else:\n",
        "    y_true_num.append(1)\n",
        "\n",
        "confusion=confusion_matrix(y_true_num, y_hat)\n",
        "print(confusion)"
      ],
      "execution_count": null,
      "outputs": [
        {
          "output_type": "stream",
          "text": [
            "[[195  39]\n",
            " [  3 387]]\n"
          ],
          "name": "stdout"
        }
      ]
    },
    {
      "cell_type": "code",
      "metadata": {
        "id": "Pyu8gVRXBvnv"
      },
      "source": [
        "vgg_2 = tf.keras.applications.VGG16(include_top=False, input_shape=(200, 200, 3))\n",
        "model_2 = tf.keras.Sequential()\n",
        "model_2.add(vgg)\n",
        "model_2.add(tf.keras.layers.)\n",
        "model_2.add(tf.keras.layers.Dense(256, activation = 'relu'))\n",
        "model_2.add(tf.keras.layers.Dropout(0.3))\n",
        "model_2.add(tf.keras.layers.Dense(4096, activation = 'relu'))\n",
        "model_2.add(tf.keras.layers.Dense(1, activation='sigmoid'))"
      ],
      "execution_count": null,
      "outputs": []
    }
  ]
}